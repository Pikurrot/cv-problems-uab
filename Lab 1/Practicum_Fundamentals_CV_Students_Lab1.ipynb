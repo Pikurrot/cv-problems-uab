{
  "cells": [
    {
      "cell_type": "markdown",
      "metadata": {
        "id": "WQAep6mya0Uv"
      },
      "source": [
        "# Fundamentals of Computer Vision: Applied Projects\n",
        "\n",
        "\n",
        "This Jupyter notebook series contains the bases of the laboratories you need to develop during the semester.\n",
        "\n",
        "The main goal of those projects is twofold: 1st is to reiterate the theoretical context of the lectures and 2nd to use those methods in adapted examples for real-world scenarios.\n",
        "\n",
        "## Deadlines\n",
        "\n",
        "- **Follow-up:** 26/10 15:00h\n",
        "  - Jupyter executed with all the work done until the moment\n",
        "- **Deliverable** 3/11 23:55h\n",
        "  - Report\n",
        "  - Code\n",
        "  - Data\n",
        "\n",
        "*See practicum presentation slides for more detailed information*"
      ]
    },
    {
      "cell_type": "markdown",
      "metadata": {
        "id": "xjN6nIR2sdec"
      },
      "source": [
        "## Import libraries, util functions and test image loading\n",
        "\n"
      ]
    },
    {
      "cell_type": "markdown",
      "metadata": {
        "id": "Rhvvwu-HIpI3"
      },
      "source": [
        "Libraries that you can use (not mandatory) and some auxiliar functions that could be useful on this block."
      ]
    },
    {
      "cell_type": "code",
      "execution_count": null,
      "metadata": {
        "id": "lO7irFwVI3rO"
      },
      "outputs": [],
      "source": [
        "import cv2\n",
        "import urllib3\n",
        "import numpy as np\n",
        "\n",
        "from PIL import Image\n",
        "\n",
        "import imutils\n",
        "from matplotlib import pyplot as plt\n"
      ]
    },
    {
      "cell_type": "code",
      "execution_count": null,
      "metadata": {
        "id": "7TkYSsHcivVp"
      },
      "outputs": [],
      "source": [
        "def add_noise(image, noise_type, mean=0, std=0.01, amount=0.05, salt=0.5):\n",
        "    \"\"\"\n",
        "    Add noise to an image.\n",
        "\n",
        "    Parameters:\n",
        "    - image: numpy array of shape (H, W) for grayscale or (H, W, 3) for RGB\n",
        "    - noise_type: string, one of 'gaussian', 'salt_pepper', 'speckle'\n",
        "    - params: dictionary containing parameters specific to the noise type\n",
        "\n",
        "    Returns:\n",
        "    - noisy_image: numpy array with added noise\n",
        "    \"\"\"\n",
        "\n",
        "    if noise_type == 'gaussian':\n",
        "        sigma = std**0.5\n",
        "        noise = np.random.normal(mean, sigma, image.shape).astype(image.dtype)\n",
        "        noisy_image = cv2.add(image, noise)\n",
        "\n",
        "    elif noise_type == 'salt_pepper':\n",
        "        out = np.copy(image)\n",
        "        # Salt mode\n",
        "        num_salt = np.ceil(amount * image.size * salt)\n",
        "        coords = [np.random.randint(0, i-1, int(num_salt)) for i in image.shape]\n",
        "        out[tuple(coords)] = 1\n",
        "        # Pepper mode\n",
        "        num_pepper = np.ceil(amount*image.size*(1. - salt))\n",
        "        coords = [np.random.randint(0, i-1, int(num_pepper)) for i in image.shape]\n",
        "        out[tuple(coords)] = 0\n",
        "        noisy_image = out\n",
        "\n",
        "    elif noise_type == 'speckle':\n",
        "        noise = np.random.randn(*image.shape).astype(image.dtype)\n",
        "        noisy_image = image + image * noise\n",
        "\n",
        "    else:\n",
        "        raise ValueError(f\"Noise type '{noise_type}' is not supported.\")\n",
        "\n",
        "    # Clip values to be in [0, 255]\n",
        "    noisy_image = np.clip(noisy_image, 0, 255).astype(np.uint8)\n",
        "\n",
        "    return noisy_image\n",
        "\n",
        "def add_periodic_noise(image, frequency=5, amplitude=10):\n",
        "    X, Y = np.meshgrid(np.arange(image.shape[0]),np.arange(image.shape[1]))\n",
        "\n",
        "    noise = amplitude * np.sin(2 * np.pi * frequency * Y / image.shape[0])\n",
        "\n",
        "    noisy_image = image + noise\n",
        "\n",
        "    noisy_image = np.clip(noisy_image, 0, 255).astype(np.uint8)\n",
        "\n",
        "    return noisy_image\n"
      ]
    },
    {
      "cell_type": "markdown",
      "metadata": {
        "id": "DP0E7aMo5yeg"
      },
      "source": [
        "# Block 1. Linear filtering\n",
        "This block focuses on linear filtering, one of the foundational concepts in image processing and computer vision. We'll be delving deep into how convolution operates, the distinction between convolution and correlation, and the magic of the Fourier transform in image filtering.\n",
        "\n",
        "### Objectives:\n",
        "\n",
        "1. **Implement and Learn How Convolution Works:**  \n",
        "   A self-implemented convolution function and its application on sample images.\n",
        "\n",
        "2. **Use Convolution to Apply Linear Filters:**  \n",
        "   Blurred and edge-detected versions of input images using your convolution function.\n",
        "\n",
        "3. **Compare Convolution and Correlation:**  \n",
        "   Implementation of correlation function and comparison with convolution.\n",
        "\n",
        "4. **Normalized Cross-Correlation and Use for Template Matching:**  \n",
        "   Function to locate a template within a larger image.\n",
        "\n",
        "5. **Fourier Transform and Image Filtering:**  \n",
        "   Filtered images emphasizing or de-emphasizing certain frequency components.\n",
        "\n",
        "---\n",
        "\n",
        "### Mandatory Questions:\n",
        "\n",
        "- What is the purpose of image filtering in computer vision? Can you list some common applications?\n",
        "\n",
        "- Why do we often use odd-sized kernels in image filtering? When we want to use even-sized filters?\n",
        "\n",
        "- Why do we often use a flipped version of the kernel in the convolution operation?\n",
        "\n",
        "- What is the fundamental difference between convolution and correlation? Can you demonstrate this with an example?\n",
        "\n",
        "- How does changing the size of the kernel affect the outcome of the convolution operation?\n",
        "\n",
        "- Explain the process of convolution and how it is used to apply a filter to an image.\n",
        "\n",
        "- In your own words, explain the significance of the Fourier transform in image processing.\n",
        "\n",
        "- Describe the process and the underlying principle of template matching using normalized cross-correlation.\n",
        "\n",
        "- Why might one choose to operate in the frequency domain (using Fourier transform) instead of the spatial domain when processing an image?\n",
        "\n",
        "- Can we remove \"salt and pepper\" noise with some of those linear filters?  \n",
        "\n",
        "\n",
        "### Optional Deep Dive Questions:\n",
        "\n",
        "- Besides convolution, what are other methods to apply filters to an image? Can you compare and contrast these methods?\n",
        "\n",
        "- Explore the concept of separable kernels. What benefits do they provide in convolution?\n",
        "\n",
        "- What is the purpose of the padding in the convolution operation, and what are the different types of padding? Explain also the purpose of stride and how this affects the output?\n",
        "\n",
        "- Explain which types of filters might be important for a real-scenario application (e.g., self-driving car vision system, medical image analysis).\n",
        "\n",
        "- What are the limitations of linear filters when it comes to noise reduction? Are there scenarios where they might not be ideal?\n",
        "\n",
        "- How would might you extend the concepts of convolution to color images? Which complexities arise when dealing with multiple channels?\n",
        "\n",
        "- Fourier transform is used in various fields outside of image processing. Can you find and explain an application outside of computer vision?\n",
        "\n",
        "- Explore and explain the difference between the discrete Fourier transform (DFT) and the fast Fourier transform (FFT). Why might FFT be preferred in many applications?\n"
      ]
    },
    {
      "cell_type": "markdown",
      "metadata": {
        "id": "yFiyIjT_F3qF"
      },
      "source": [
        "## Convolution operation\n",
        "\n"
      ]
    },
    {
      "cell_type": "markdown",
      "metadata": {
        "id": "8DqpUP4vIf8j"
      },
      "source": [
        "#### Objective:\n",
        "Implement the convolution operation by hand and compare it with standard library functions. Also, manipulate image sizes through upsampling and downsampling using convolution. The focus will be on handling edge cases and experimenting with various kernels.\n",
        "\n",
        "---\n",
        "\n",
        "#### Guideline:\n",
        "1. Implement a function to perform the convolution operation on an image. Make sure to handle edge cases and allow for different kernel sizes. DO NOT USE LIBRARY IMPLEMENTATIONS.\n",
        "2. Develop methods for upsampling and downsampling images using your convolution function.\n",
        "3. Experiment with your convolution function by applying different kernels on various images.\n",
        "4. Compare your hand-implemented convolution outcomes with standard library methods such as OpenCV's `filter2d` and SciPy's `convolve`.\n",
        "\n",
        "---\n",
        "\n",
        "#### Expected results:\n",
        "- Your hand-implemented convolution, upsampling, and downsampling code.\n",
        "- Resized images at scales: (2x, 0.5x)."
      ]
    },
    {
      "cell_type": "code",
      "execution_count": null,
      "metadata": {
        "id": "kSYWEDF0wMl9"
      },
      "outputs": [],
      "source": [
        "def convolution(image, kernel, stride=1, padding=0):\n",
        "    pass\n",
        "\n",
        "def gaussian_kernel(size, sigma):\n",
        "    pass\n",
        "\n",
        "\n",
        "def upscale_image(image, scale_factor):\n",
        "    pass\n",
        "\n",
        "def downscale_image(image, scale_factor):\n",
        "    pass\n",
        "\n",
        "# Load images and test your functions\n"
      ]
    },
    {
      "cell_type": "markdown",
      "metadata": {
        "id": "bIfr3ZZytPti"
      },
      "source": [
        "## Linear Filtering\n"
      ]
    },
    {
      "cell_type": "markdown",
      "metadata": {
        "id": "rO9jAcmwHFgi"
      },
      "source": [
        "#### Objective:\n",
        "Explore various image filtering techniques by applying them to a set of example images as well as images of your own choice. Experiment with different kernel sizes and types of filters to observe their effects.\n",
        "\n",
        "- Blur:\n",
        "  - Average Box Filter\n",
        "  - Gaussian Filter\n",
        "- Edge:\n",
        "  - Laplacian Filter\n",
        "  - Sobel Filter\n",
        "  - Prewitt Filter\n",
        "\n",
        "Feel free to experiment with additional filters as well.\n",
        "\n",
        "---\n",
        "\n",
        "#### Guideline:\n",
        "1. Apply each of the given filters to the example images provided.\n",
        "2. Use images of your own choosing to further experiment with these filters.\n",
        "3. Experiment with varying kernel sizes for each filter.\n",
        "4. Analyze the effects of each filter and kernel size on the images.\n",
        "\n",
        "---\n",
        "\n",
        "#### Expected results:\n",
        "- Filtered images (both example and your own)\n",
        "- Analysis of the effect of kernel size\n"
      ]
    },
    {
      "cell_type": "markdown",
      "metadata": {
        "id": "LH36ulMF0fD6"
      },
      "source": [
        "Examples of different linear filters for blur and edge *detection*\n",
        "\n",
        "1. **Average Box Filter:**\n",
        "   ```\n",
        "   1/9  1/9  1/9\n",
        "   1/9  1/9  1/9\n",
        "   1/9  1/9  1/9\n",
        "   ```\n",
        "\n",
        "2. **Gaussian Blur Filter:**\n",
        "   ```\n",
        "   1/16  2/16  1/16\n",
        "   2/16  4/16  2/16\n",
        "   1/16  2/16  1/16\n",
        "   ```\n",
        "\n",
        "3. **Laplacian Filter:**\n",
        "   ```\n",
        "   0  1  0\n",
        "   1 -4  1\n",
        "   0  1  0\n",
        "   ```\n",
        "\n",
        "4. **Sobel Operator (horizontal || vertical):**\n",
        "   ```\n",
        "     -1  0  1  ||  -1 -2 -1\n",
        "     -2  0  2  ||   0  0  0\n",
        "     -1  0  1  ||   1  2  1\n",
        "  ```\n",
        "\n",
        "5. **Prewitt Operator (horizontal || vertical):**\n",
        "   ```\n",
        "    -1  0  1  || -1 -1 -1\n",
        "    -1  0  1  ||  0  0  0\n",
        "    -1  0  1  ||  1  1  1\n",
        "   ```\n",
        "\n"
      ]
    },
    {
      "cell_type": "code",
      "execution_count": null,
      "metadata": {
        "id": "Ks7qa4CfGC4U"
      },
      "outputs": [],
      "source": [
        "def apply_linear_filter(image, kernel):\n",
        "  pass\n"
      ]
    },
    {
      "cell_type": "markdown",
      "metadata": {
        "id": "5YdiK7BU-M35"
      },
      "source": [
        "## Template matching\n"
      ]
    },
    {
      "cell_type": "markdown",
      "metadata": {
        "id": "bwuuHUNDG7Mr"
      },
      "source": [
        "#### **Objective:**\n",
        "Implement template matching system using normalized cross-correlations (NCC). You need to identify multiple templates within a given image and draw bounding boxes around the identified regions.\n",
        "\n",
        "---\n",
        "\n",
        "#### Guidelines:\n",
        "1. Implement the normalized cross-correlation algorithm. Your function should accept an image and a template as parameters. DO NOT USE LIBRARIES.\n",
        "3. Use a folder containing multiple templates to attempt to identify all templates within a given test image.\n",
        "4. Draw bounding boxes around the identified template regions in the test image.\n",
        "---\n",
        "\n",
        "#### Expected result:\n",
        "- A test image with bounding boxes around identified templates"
      ]
    },
    {
      "cell_type": "code",
      "execution_count": null,
      "metadata": {
        "id": "QzIGRTqYPGrs"
      },
      "outputs": [],
      "source": []
    },
    {
      "cell_type": "markdown",
      "metadata": {
        "id": "DjquusMuLAP-"
      },
      "source": [
        "## Fourier Transform\n",
        "\n"
      ]
    },
    {
      "cell_type": "markdown",
      "metadata": {
        "id": "xQ438ICeG2LM"
      },
      "source": [
        "#### **Objective**:\n",
        "You are provided with three images, each corrupted by one or more periodic frequencies. Your task is to process these images using Fourier Transform techniques to identify and remove the corrupting frequencies.\n",
        "\n",
        "- Image 1 has one specific corrupting frequency.\n",
        "- Image 2 has another unique corrupting frequency.\n",
        "- Image 3 has both frequencies from Image 1 and Image 2.\n",
        "\n",
        "---\n",
        "\n",
        "#### Guideline:\n",
        "1. Use Fourier Transform to convert each image to the frequency domain. (you can use libraries for this)\n",
        "2. Analyze the Fourier spectrum to identify the corrupting frequencies.\n",
        "3. Remove the identified frequencies and perform an Inverse Fourier Transform to obtain the cleaned image.\n",
        "4. Compare the cleaned images with the original corrupted ones and quantify the improvements.\n",
        "\n",
        "---\n",
        "#### Expected results:\n",
        "- Cleaned images\n"
      ]
    }
  ],
  "metadata": {
    "accelerator": "GPU",
    "colab": {
      "collapsed_sections": [
        "yFiyIjT_F3qF",
        "bIfr3ZZytPti",
        "5YdiK7BU-M35"
      ],
      "gpuType": "T4",
      "provenance": []
    },
    "kernelspec": {
      "display_name": "Python 3",
      "name": "python3"
    },
    "language_info": {
      "name": "python"
    }
  },
  "nbformat": 4,
  "nbformat_minor": 0
}
