{
  "cells": [
    {
      "cell_type": "markdown",
      "metadata": {
        "id": "xjN6nIR2sdec"
      },
      "source": [
        "## Import libraries, util functions and test image loading\n",
        "\n"
      ]
    },
    {
      "cell_type": "code",
      "execution_count": null,
      "metadata": {
        "id": "lO7irFwVI3rO"
      },
      "outputs": [],
      "source": [
        "!pip install imutils\n",
        "import cv2\n",
        "import urllib3\n",
        "import numpy as np\n",
        "\n",
        "from PIL import Image\n",
        "\n",
        "import imutils\n",
        "from matplotlib import pyplot as plt"
      ]
    },
    {
      "cell_type": "markdown",
      "metadata": {
        "id": "MTdyS000S7iz"
      },
      "source": [
        "# Block 2. Non-Linear Filtering and Morphological operations.\n",
        "\n",
        "While linear filters can be effective for certain tasks, they often come with limitations when dealing with specific types of noise or when aiming to achieve certain effects on the image.\n",
        "\n",
        "### Objectives:\n",
        "\n",
        "1. **Median Filter Implementation**:\n",
        " Implement the median filter and understand its significance in noise removal.\n",
        "\n",
        "2. **Defect detection with morphological operations**:\n",
        " Implement the basic morphological operations of dilation and erosion. Then implement the derived operations from these basics. After all this, propose pipelines to detect precisely the defects on some images.\n",
        "\n",
        "3. **Watermarking**:\n",
        " Propose a pipeline for image watermarking using any of the previous techniques (Linear filtering, Non-linear filtering, Fourier transform, Morphological operations).\n",
        "\n",
        "4. **Watermark extraction challenge (extra points)**\n",
        " Given three images with embedded watermarks of varying complexity levels, employ a combination of techniques seen in the course (image enhancing, linear filtering, non-linear filtering, morphological operations, and Fourier analysis) to extract the watermarks.\n",
        " You should obtain the binary mask with legible watermark for each image.\n",
        "\n",
        " ***Note***: The Challenge Exercise can augment your total grade **for up to 2 points**. For example, if you score 6 on this lab and complete the challenge, your score will be boosted up to 2 points, depending on the solution (0.5 easy; 0.5 medium; 1 hard). The total lab grade remains capped at 10 points.\n",
        "\n",
        "---\n",
        "\n",
        "### Mandatory Questions:\n",
        "\n",
        "- How does the median filter differ in functionality from the mean filter, and under what circumstances is it preferable to use it?\n",
        "- Describe how a median filter works in the spatial domain.\n",
        "- How does the window size of the median filter affect the output image?\n",
        "- Can a median filter be implemented as a convolution operation? Explain why or why not.\n",
        "- What are the basic morphological operations? Describe dilation and erosion in terms of structuring elements.\n",
        "- How do morphological operations change the shape and size of objects in an image?\n",
        "- What are some common derived morphological operations and where they are used for?\n",
        "- What is the purpose of watermarking in image processing?\n",
        "- What is the difference between visible and invisible watermarks?\n",
        "- How could you utilize Fourier Transform for watermark embedding?\n",
        "\n",
        "\n",
        "### Optional Deep Dive Questions:\n",
        "\n",
        "- Beyond noise removal, can you think of any other applications where the median filter might be advantageous?\n",
        "- Compare the computational complexity of median filtering with Gaussian filtering.\n",
        "- Describe the process of top-hat and bottom-hat filtering. How can they be used for defect detection?\n",
        "- Can morphological operations be applied to multi-channel images? Discuss the challenges.\n",
        "- Discuss the concept of \"hit-or-miss\" transform in morphological operations. How can it be useful in defect detection?\n",
        "- Explore the concept of morphological gradients. How can they be derived from the basic operations of erosion and dilation?\n",
        "- In watermark extraction, are there any other techniques or methods (beyond the scope of this course) that might aid in making the extraction process more efficient or accurate? Research and discuss.\n",
        "- Explore more robust watermarking and the techniques."
      ]
    },
    {
      "cell_type": "markdown",
      "metadata": {
        "id": "CGnIrPR3GwJJ"
      },
      "source": [
        "## Median filter"
      ]
    },
    {
      "cell_type": "markdown",
      "metadata": {
        "id": "HnjXCK8Wvlh2"
      },
      "source": [
        "#### Objective:\n",
        "Implement the median filter operation by hand and compare with linear blur filters.\n",
        "\n",
        "---\n",
        "\n",
        "#### Guideline:\n",
        "1. Implement a function to perform the median filters over an image. Make sure to handle edge cases and allow for different kernel sizes. DO NOT USE LIBRARY IMPLEMENTATIONS.\n",
        "2. Experiment with different kernel sizes and apply on various images.\n",
        "3. Add different quantities of noise and analyze when an image is not recoverable.\n",
        "4. Compare your hand-implemented method with libraries implementation.\n",
        "5. Finally compare the median filter to the linear filter counterparts (gaussian / box filters) in order to explain how they differ.\n",
        "---\n",
        "\n",
        "#### Expected results:\n",
        "- Your hand-implemented median filter.\n",
        "- Qualitative comparison on different blurs"
      ]
    },
    {
      "cell_type": "code",
      "execution_count": null,
      "metadata": {
        "id": "BL7EKw82Guli"
      },
      "outputs": [],
      "source": [
        "def median_blur(image, kernel_size):\n",
        "  pass"
      ]
    },
    {
      "cell_type": "markdown",
      "metadata": {
        "id": "IrmKBP40LOrZ"
      },
      "source": [
        "## Morphological operators\n",
        "\n"
      ]
    },
    {
      "cell_type": "markdown",
      "metadata": {
        "id": "l-YeJ3CEwwZ6"
      },
      "source": [
        "#### Objective:\n",
        "Implement the basic morphological operators seen in class and prove their properties.\n",
        "\n",
        "Basic morphological operators:\n",
        " - Dilation\n",
        " - Erosion\n",
        "\n",
        "Derived operations:   \n",
        " - Open\n",
        " - Close\n",
        " - Morphological gradient\n",
        " - Top hat (optional)\n",
        " - Bottom hat (optional)\n",
        " - Skeleton (optional)\n",
        " - Convex hull or perimeter (optional)\n",
        "\n",
        "##### Prove each of the properties of dilation and erosion\n",
        "\n",
        "- Translation Invariance (both)\n",
        "- Anti-Extensive (Erosion)\n",
        "- Extensive (Dilation)\n",
        "- Idempotence (both)\n",
        "- Monotonically increasing (both)\n",
        "\n",
        "---\n",
        "\n",
        "#### Guideline:\n",
        "1. Implement a function to perform the erosion and dilation operations. DO NOT USE LIBRARY IMPLEMENTATIONS.\n",
        "2. Implement the derived operations using the previous ones.\n",
        "3. Apply different operators to dummy images and prove each of the properties of morphological operators.\n",
        "4. Prove each one of the listed properties of erosion and dilation.\n",
        "\n",
        "---\n",
        "\n",
        "#### Expected results:\n",
        "- Your hand-implemented functions for dilation, erosion, opening, closing & morphological gradient .\n",
        "- Prove of each one of the properties (list them all)\n",
        "- Example of each operation on dummy images (design your owns using openCV)"
      ]
    },
    {
      "cell_type": "code",
      "execution_count": null,
      "metadata": {
        "id": "UaIy2bw2T-Y6"
      },
      "outputs": [],
      "source": [
        "def dilation(image, structuring_element):\n",
        "    pass\n",
        "\n",
        "def erosion(image, structuring_element):\n",
        "    pass\n",
        "\n",
        "def opening(image, structuring_element):\n",
        "    pass\n",
        "\n",
        "def closing(image, structuring_element):\n",
        "    pass\n",
        "\n",
        "def top_hat(image, structuring_element):\n",
        "    pass\n",
        "\n",
        "def black_hat(image, structuring_element):\n",
        "    pass\n",
        "\n",
        "def morphological_gradient(image, structuring_element):\n",
        "    pass\n",
        "\n",
        "def convex_hull(image):\n",
        "    pass\n",
        "\n",
        "def skeletonize(image):\n",
        "    pass\n",
        "\n",
        "\n"
      ]
    },
    {
      "cell_type": "markdown",
      "metadata": {
        "id": "A9Rzg81aMkh7"
      },
      "source": [
        "## Defect detection with Morphological operations\n"
      ]
    },
    {
      "cell_type": "markdown",
      "metadata": {
        "id": "2ITXhmraMxPI"
      },
      "source": [
        "Objective:\n",
        "\n",
        "Implement a pipeline for defect detection in a folder containing images. The pipelines should aim to obtain segmentation masks specifically on the defects using various image processing techniques seen in this course, focusing morphological operations.\n",
        "\n",
        "---\n",
        "\n",
        "Guideline:\n",
        "- Inspect the images in the folder ```defects``` and identify the nature of defects.\n",
        "- Design separate pipelines for different types of defects.\n",
        "- For each pipeline, apply morphological operations and other techniques discussed in the course to isolate the defect and generate a segmentation mask.\n",
        "- Evaluate the quality of the segmentation masks against ground truth using Intersection over Union (IoU) as a metric.\n",
        "\n",
        "---\n",
        "\n",
        "Expected results:\n",
        "- Individual pipelines designed for each type of defect.\n",
        "- Qualitative analysis showcasing the effectiveness of your pipeline in isolating defects.\n",
        "- Quantitative analysis providing IoU scores for each pipeline when compared to ground truth masks in the same folder."
      ]
    },
    {
      "cell_type": "code",
      "execution_count": null,
      "metadata": {
        "id": "2eTH1ex-22-d"
      },
      "outputs": [],
      "source": []
    },
    {
      "cell_type": "markdown",
      "metadata": {
        "id": "31yRuvNjzTK1"
      },
      "source": [
        "## Watermarking\n"
      ]
    },
    {
      "cell_type": "markdown",
      "metadata": {
        "id": "yhNv2xxizabB"
      },
      "source": [
        "#### Objective:\n",
        "Use any of the previous techniques to apply a hard-to-removal watermark from to an image. After that you will try to reverse-engeneer your method and try to extract the text of the watermark you created.\n",
        "\n",
        "---\n",
        "\n",
        "#### Guideline:\n",
        "1. Define a pipeline using the previous techniques (linear filtering, fourier transform, non-linear filtering, morphological operations, ...). You can use one or a combination of different techniques to produce a good pipeline.\n",
        "2. Try to develop a method to extract the watermark (binary mask with the original watermark you introduced) by using the watermaked image and the original image.\n",
        "3. Same as the previous one but relying only on the watermarked image. (You can't use the original image)\n",
        "---\n",
        "\n",
        "#### Expected results:\n",
        "- A function that takes an image and a watermark (a binary image or a text) and returns the watermarked image.\n",
        "- A pair of original image and the watermaked one\n",
        "- A pair of a watermarked image and the watermark extracted (by using both original and watermaked image)\n",
        "- A pair of a watermarked image and the watermark extracted (by using only the watermaked image)"
      ]
    },
    {
      "cell_type": "code",
      "execution_count": null,
      "metadata": {
        "id": "zQc_wohE2tC7"
      },
      "outputs": [],
      "source": [
        "def apply_watermark(image, watermark_image, watermark_text=None);\n",
        "    pass\n",
        "\n",
        "def remove_watermark_easy(original_image, watermarked_image):\n",
        "  pass\n",
        "\n",
        "\n",
        "def remove_watermark_hard(watermarked_image):\n",
        "  pass\n",
        "\n"
      ]
    },
    {
      "cell_type": "markdown",
      "metadata": {
        "id": "5CcQQeaJ3bX2"
      },
      "source": [
        "## Watermark extraction challenge\n"
      ]
    },
    {
      "cell_type": "markdown",
      "metadata": {
        "id": "rteMEAPp3f4M"
      },
      "source": [
        "#### Objective:\n",
        "Create a binary mask where you can read the text of the watermark hidden on images on folder ```lab2_challenge```.  \n",
        "Remember that this challenge counts as extra part of the lab and do not count of the optional points of this lab, so there's no guideline. Instead there's a hint on each level you can use to start designing your own method.\n",
        "\n",
        "\n",
        "---\n",
        "\n",
        "#### Hints:\n",
        "  - Hints for each image:\n",
        "    - Easy: Will edges and some post-processing be enough?\n",
        "    - Medium: Equalizing the image correclty could make watermark more visible\n",
        "    - Hard: Do you think image looks wierd enough to check fourier spece?\n",
        "\n",
        "---\n",
        "\n",
        "#### Expected results:\n",
        "- A binary image with the extracted text (or at least somewhat readable) and the string of text you extracted on each one."
      ]
    },
    {
      "cell_type": "code",
      "execution_count": null,
      "metadata": {},
      "outputs": [],
      "source": []
    }
  ],
  "metadata": {
    "colab": {
      "provenance": []
    },
    "kernelspec": {
      "display_name": "Python 3",
      "name": "python3"
    },
    "language_info": {
      "name": "python"
    }
  },
  "nbformat": 4,
  "nbformat_minor": 0
}
