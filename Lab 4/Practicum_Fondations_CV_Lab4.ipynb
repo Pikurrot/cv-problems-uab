{
  "cells": [
    {
      "cell_type": "code",
      "execution_count": null,
      "metadata": {
        "id": "lO7irFwVI3rO"
      },
      "outputs": [],
      "source": [
        "import cv2\n",
        "import urllib3\n",
        "import numpy as np\n",
        "\n",
        "from PIL import Image\n",
        "\n",
        "import imutils\n",
        "from matplotlib import pyplot as plt"
      ]
    },
    {
      "cell_type": "markdown",
      "metadata": {
        "id": "jYfBhcLYhLrw"
      },
      "source": [
        "# Block 4. Feature detection, Image descriptors and BoVW"
      ]
    },
    {
      "cell_type": "markdown",
      "metadata": {
        "id": "_exgHAGtQWrF"
      },
      "source": [
        "This lab explores the fundamental concepts of feature extraction and feature descriptors in computer vision. It delves into various feature detection techniques like Harris corner and LoG blob detectors, and descriptor methods like SIFT, SURF, and ORB. Additionally, the lab introduces the Bag of Visual Words model, demonstrating its application in image classification, particularly using a subset of the VOC dataset.\n",
        "\n",
        "### Objectives:\n",
        "1. **Implement Feature extraction methods**\n",
        "  - **Implement Harris Corner Detector**: Understand and implement the Harris corner detection algorithm to identify corner features in images.\n",
        "  - **Implement LoG Blob Detector**: Learn and apply the Laplacian of Gaussian method for blob detection in images.\n",
        "2. **Implement Image feature descriptors** (Reusing part of the feature extraction code)\n",
        "  - **Implement Normalized Color Histogram and Color Space Changes**: Explore color features by implementing normalized color histograms and understanding the impact of different color spaces.\n",
        "  - **Use SIFT, SURF, and ORB**: Use these feature descriptors, analyze their strengths and weaknesses, and compare their performance.\n",
        "3. **Provide a Pipeline for Bag of Words and Compute Results on Subset of VOC Dataset**: Develop a Bag of Visual Words model and test its efficacy in classifying images from a subset of the VOC dataset.\n",
        "\n",
        "---\n",
        "\n",
        "### Mandatory Questions:\n",
        "\n",
        "1. Explain the principles behind corner detectors, specifically the Harris corner detection method. Why is it effective in identifying corners?\n",
        "2. Discuss the main differences between edge detection and corner detection. Why are corners considered more robust features?\n",
        "3. What are the limitations of the Harris corner detector in complex images?\n",
        "4. Describe the Laplacian of Gaussian blob detector. How does it differ from edge detection?\n",
        "5. Discuss the role of feature descriptors in object recognition.\n",
        "6. Why are color histograms useful for image feature extraction? Describe the process of creating a normalized color histogram.\n",
        "7. How does a change in color space affect feature extraction in images?\n",
        "8. Explain the concepts of scale and rotation invariance in feature detection. For each algorithm (SIFT, SURF, and ORB), explain how they handle scale and rotation variations in images.\n",
        "9. Compare SIFT, SURF, and ORB in terms of computational efficiency and accuracy.\n",
        "10. What is the role of orientation assignment in the SIFT algorithm?\n",
        "11. How does the ORB algorithm differ from SIFT and SURF in terms of feature matching?\n",
        "12. How do feature descriptors contribute to the process of image stitching (for panorama images)?\n",
        "13. Discuss the impact of varying lighting conditions on feature detection and description. How can these challenges be mitigated?\n",
        "14. What are the key steps in constructing a Bag of Visual Words model? Explain each of them in detail.\n",
        "15. In the context of the Bag of Visual Words model, explain the significance of feature quantization. Discuss on which steps it can be done and how it affects the results.\n",
        "\n",
        "\n",
        "### Optional Deep Dive Questions:\n",
        "\n",
        "1. Discuss the potential weaknesses of the LoG blob detector in real-world scenarios. Propose improvements.\n",
        "2. Explore the potential of hybrid color spaces (combining properties of different color models) in improving the robustness of feature extraction for applications in varied lighting and environmental conditions.\n",
        "3. Discuss the impact of varying image resolutions on the effectiveness of feature descriptors.\n",
        "4. Discuss the limitations of current feature descriptors in handling occlusions and propose potential improvements.\n",
        "5. Evaluate the performance of hybrid feature detectors that combine the properties of multiple algorithms (like SIFT and Harris). What are the potential benefits?\n",
        "6. Analyze the role of feature extraction in content-based image retrieval systems. How do they impact the efficiency and accuracy of searches?\n",
        "7. How might the Bag of Visual Words model be modified or extended to improve classification accuracy?\n",
        "8. Consider the role of context in feature-based image classification. How might contextual information be incorporated into the Bag of Visual Words model?\n"
      ]
    },
    {
      "cell_type": "markdown",
      "metadata": {
        "id": "bbahKlO7avjP"
      },
      "source": [
        "### Exercise 1: Harris Corner Detector Implementation\n",
        "**Objective**:\n",
        "\n",
        "Implement the Harris Corner Detection algorithm to identify corner features in images.\n",
        "\n",
        "**Guideline**:\n",
        "- Load image.\n",
        "- Implement the basic Harris Corner Detection algorithm.\n",
        "- Apply the algorithm to the images and visualize the detected corners.\n",
        "- Explore the impact of parameter changes on detection quality.\n",
        "- (Optional) Implement the Harris-Laplace and the Harris-Affine improvments and compare the pros and cons of each version\n",
        "\n",
        "**Expected Results**:\n",
        "- A working Harris Corner Detection implementation.\n",
        "- Visualization of corner detection in various images."
      ]
    },
    {
      "cell_type": "code",
      "execution_count": null,
      "metadata": {},
      "outputs": [],
      "source": []
    },
    {
      "cell_type": "markdown",
      "metadata": {
        "id": "bK5w-3kW54Lo"
      },
      "source": [
        "\n",
        "### Exercise 2: LoG Blob Detector Implementation\n",
        "**Objective**:\n",
        "\n",
        "Develop and apply the LoG method for blob detection in images, understanding its application in feature extraction.\n",
        "\n",
        "**Guideline**:\n",
        "- Select diverse images for blob detection.\n",
        "- Implement the LoG Blob Detector.\n",
        "- Analyze the LoG method's effectiveness.\n",
        "- Compare LoG with other blob detection methods.\n",
        "- (Optional) Implement your own version of other methods (DoG, DoH, ...) or design your own\n",
        "\n",
        "**Expected Results**:\n",
        "- Documented LoG Blob Detector implementation.\n",
        "- Comparative analysis of blob detection results.\n",
        "- Evaluation of method effectiveness and limitations.\n"
      ]
    },
    {
      "cell_type": "code",
      "execution_count": null,
      "metadata": {},
      "outputs": [],
      "source": []
    },
    {
      "cell_type": "markdown",
      "metadata": {
        "id": "Sb0Hp7LiExhs"
      },
      "source": [
        "\n",
        "### Exercise 3: Normalized Color Histogram and Color Space Changes\n",
        "**Objective**:\n",
        "Implement normalized color histograms and explore color space transformations' impact on feature extraction.\n",
        "\n",
        "**Guideline**:\n",
        "- Implement normalized color histograms.\n",
        "- Transform images into different color spaces and generate histograms.\n",
        "- Analyze the impact of color space changes.\n",
        "\n",
        "**Expected Results**:\n",
        "- Color histograms in various spaces for a set of images.\n",
        "- Comparative analysis on color space impact.\n",
        "- Discussion on color in feature extraction and analysis.\n",
        "\n"
      ]
    },
    {
      "cell_type": "code",
      "execution_count": null,
      "metadata": {
        "id": "Pjrs6L68L8kl"
      },
      "outputs": [],
      "source": []
    },
    {
      "cell_type": "markdown",
      "metadata": {
        "id": "Icgv4u4aLIqb"
      },
      "source": [
        "### Exercise 4: Implementation and Analysis of SIFT, SURF, and ORB\n",
        "**Objective**:\n",
        "Implement and analyze SIFT, SURF, and ORB feature descriptors (use opencv implementations), understanding their pros and cons.\n",
        "\n",
        "**Guideline**:\n",
        "- Select a diverse image dataset.\n",
        "- Implement SIFT and ORB algorithms. (Since SURF is patented, is optionally in the comparions)\n",
        "- Apply these methods to some images.\n",
        "\n",
        "**Expected Results**:\n",
        "- Implementations of SIFT, ORB (and SURF).\n",
        "- Hyperparameter analysis of each algorithm.\n",
        "- Comparision of the methods"
      ]
    },
    {
      "cell_type": "code",
      "execution_count": null,
      "metadata": {},
      "outputs": [],
      "source": []
    },
    {
      "cell_type": "markdown",
      "metadata": {
        "id": "DG_AL9sc33Vi"
      },
      "source": [
        "### (Optional) Exercise 4.5: Implement other image descriptor methods (motion, shape, ...)\n"
      ]
    },
    {
      "cell_type": "code",
      "execution_count": null,
      "metadata": {
        "id": "v8cv5VOu4EkZ"
      },
      "outputs": [],
      "source": []
    },
    {
      "cell_type": "markdown",
      "metadata": {
        "id": "WCXuuRl7LKyh"
      },
      "source": [
        "### Exercise 5: Bag of Visual Words Pipeline and VOC Dataset Analysis\n",
        "**Objective**:\n",
        "Develop a BoVW model and apply it to classify images from the VOC dataset, focusing on the BoVW approach.\n",
        "\n",
        "**Guideline**:\n",
        "- Load the VOC dataset.\n",
        "- Implement the BoVW model.\n",
        "- Apply the model to the dataset for classification.\n",
        "- Evaluate the model's performance.\n",
        "\n",
        "**Expected Results**:\n",
        "- Implementation of the Bag of Visual Words model.\n",
        "- Application of the model for image classification.\n",
        "- Evaluation of the model's performance.\n",
        "\n",
        "**Optional Enhancements**:\n",
        "- Experiment with different clustering algorithms for codebook generation in the BoVW model."
      ]
    },
    {
      "cell_type": "markdown",
      "metadata": {},
      "source": [
        "### Step 1: Data Loading\n",
        "- **Objective**: Load images from each class into a format suitable for processing.\n",
        "- **Guide**: Use a library like OpenCV or PIL in Python to load images. Iterate over the folders, loading each image and storing it with its class label.\n",
        "\n",
        "### Step 2: Feature Extraction\n",
        "- **Objective**: Extract features from each image to represent its content.\n",
        "- **Guide**: Apply a feature descriptor to each image. This transforms the image into a set of features. Examples can be SIFT, SURF, Color histogram, etc\n",
        "\n",
        "### Step 3: Building the Vocabulary (Codebook)\n",
        "- **Objective**: Create a vocabulary of visual words (features) that represents the dataset.\n",
        "- **Guide**: Cluster the extracted features across all images using any clustering algorithm. Each cluster center is a visual word.\n",
        "\n",
        "### Step 4: Feature Encoding\n",
        "- **Objective**: Encode each image as a frequency histogram of visual words.\n",
        "- **Guide**: For each image, count how many features fall into each cluster (visual word) and create a histogram.\n",
        "\n",
        "### Step 5: Classifier Training\n",
        "- **Objective**: Train a machine learning model to classify the images.\n",
        "- **Guide**: Use the histograms as input features for a classifier. Any supervised classifier can be used (SVM, Random Forest, KNN, Neural nets, ...)\n",
        "\n",
        "### Step 6: Model Evaluation\n",
        "- **Objective**: Evaluate the performance of the classifier.\n",
        "- **Guide**: Use a confusion matrix to visualize the performance and extract metrics."
      ]
    },
    {
      "cell_type": "code",
      "execution_count": null,
      "metadata": {},
      "outputs": [],
      "source": []
    }
  ],
  "metadata": {
    "colab": {
      "provenance": []
    },
    "kernelspec": {
      "display_name": "Python 3",
      "name": "python3"
    },
    "language_info": {
      "codemirror_mode": {
        "name": "ipython",
        "version": 3
      },
      "file_extension": ".py",
      "mimetype": "text/x-python",
      "name": "python",
      "nbconvert_exporter": "python",
      "pygments_lexer": "ipython3",
      "version": "3.10.12"
    }
  },
  "nbformat": 4,
  "nbformat_minor": 0
}
